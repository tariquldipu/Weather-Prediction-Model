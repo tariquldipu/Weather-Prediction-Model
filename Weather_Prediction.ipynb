{
 "cells": [
  {
   "cell_type": "markdown",
   "id": "d7aaf0f1",
   "metadata": {},
   "source": [
    "In this python notebook I've tried to build a weather prediction model based on the dataset that contains a century of historical averages of global temperatures, including global maximum temperatures, global minimum temperatures, and global land and ocean temperatures. I've used supervised regression machine learning method for building up this model. The dataset was collected from Kaggle."
   ]
  },
  {
   "cell_type": "code",
   "execution_count": 17,
   "id": "92f3a28c",
   "metadata": {},
   "outputs": [
    {
     "name": "stdout",
     "output_type": "stream",
     "text": [
      "(3192, 9)\n",
      "Index(['dt', 'LandAverageTemperature', 'LandAverageTemperatureUncertainty',\n",
      "       'LandMaxTemperature', 'LandMaxTemperatureUncertainty',\n",
      "       'LandMinTemperature', 'LandMinTemperatureUncertainty',\n",
      "       'LandAndOceanAverageTemperature',\n",
      "       'LandAndOceanAverageTemperatureUncertainty'],\n",
      "      dtype='object')\n",
      "<class 'pandas.core.frame.DataFrame'>\n",
      "RangeIndex: 3192 entries, 0 to 3191\n",
      "Data columns (total 9 columns):\n",
      " #   Column                                     Non-Null Count  Dtype  \n",
      "---  ------                                     --------------  -----  \n",
      " 0   dt                                         3192 non-null   object \n",
      " 1   LandAverageTemperature                     3180 non-null   float64\n",
      " 2   LandAverageTemperatureUncertainty          3180 non-null   float64\n",
      " 3   LandMaxTemperature                         1992 non-null   float64\n",
      " 4   LandMaxTemperatureUncertainty              1992 non-null   float64\n",
      " 5   LandMinTemperature                         1992 non-null   float64\n",
      " 6   LandMinTemperatureUncertainty              1992 non-null   float64\n",
      " 7   LandAndOceanAverageTemperature             1992 non-null   float64\n",
      " 8   LandAndOceanAverageTemperatureUncertainty  1992 non-null   float64\n",
      "dtypes: float64(8), object(1)\n",
      "memory usage: 224.6+ KB\n",
      "None\n",
      "dt                                              0\n",
      "LandAverageTemperature                         12\n",
      "LandAverageTemperatureUncertainty              12\n",
      "LandMaxTemperature                           1200\n",
      "LandMaxTemperatureUncertainty                1200\n",
      "LandMinTemperature                           1200\n",
      "LandMinTemperatureUncertainty                1200\n",
      "LandAndOceanAverageTemperature               1200\n",
      "LandAndOceanAverageTemperatureUncertainty    1200\n",
      "dtype: int64\n"
     ]
    }
   ],
   "source": [
    "# Read the dataset\n",
    "import pandas as pd\n",
    "global_temp = pd.read_csv(\"GlobalTemperatures.csv\")\n",
    "print(global_temp.shape)\n",
    "print(global_temp.columns)\n",
    "print(global_temp.info())\n",
    "print(global_temp.isnull().sum())\n"
   ]
  },
  {
   "cell_type": "markdown",
   "id": "a03dbebe",
   "metadata": {},
   "source": [
    "I’ll create a function called wrangle () in which I’ll call the dataframe.\n",
    "\n",
    "I want to make a copy of the dataframe so as not to corrupt the original. After that, I'm going to remove the columns that have high cardinality.\n",
    "\n",
    "High cardinality refers to columns whose values are very rare or unique. Given the frequency of high cardinality data in most time-series datasets, I'll solve this problem directly by completely removing these high cardinality columns from the dataset so as not to confuse the model in the future. \n",
    "\n",
    "Now, I will create a function to convert temperature, and to convert the columns into DateTime object---"
   ]
  },
  {
   "cell_type": "code",
   "execution_count": 18,
   "id": "29bc3786",
   "metadata": {},
   "outputs": [
    {
     "name": "stdout",
     "output_type": "stream",
     "text": [
      "      LandAverageTemperature  LandMaxTemperature  LandMinTemperature  \\\n",
      "Year                                                                   \n",
      "1850                 33.3482             46.8356             26.2292   \n",
      "1850                 37.5278             49.9460             27.8762   \n",
      "1850                 40.9172             50.6246             28.5710   \n",
      "1850                 44.9906             55.2812             33.8324   \n",
      "1850                 50.0072             60.1790             38.8598   \n",
      "\n",
      "      LandAndOceanAverageTemperature  \n",
      "Year                                  \n",
      "1850                         55.0994  \n",
      "1850                         56.4584  \n",
      "1850                         57.2774  \n",
      "1850                         58.4006  \n",
      "1850                         59.9126  \n"
     ]
    }
   ],
   "source": [
    "#Data Preparation\n",
    "def wrangle(df):\n",
    "    df = df.copy()\n",
    "    df = df.drop(columns=[\"LandAverageTemperatureUncertainty\", \"LandMaxTemperatureUncertainty\",\n",
    "                          \"LandMinTemperatureUncertainty\", \"LandAndOceanAverageTemperatureUncertainty\"], axis=1)\n",
    "    def converttemp(x):\n",
    "        x = (x * 1.8) + 32\n",
    "        return float(x)\n",
    "    \n",
    "    df[\"LandAverageTemperature\"] = df[\"LandAverageTemperature\"].apply(converttemp)\n",
    "    df[\"LandMaxTemperature\"] = df[\"LandMaxTemperature\"].apply(converttemp)\n",
    "    df[\"LandMinTemperature\"] = df[\"LandMinTemperature\"].apply(converttemp)\n",
    "    df[\"LandAndOceanAverageTemperature\"] = df[\"LandAndOceanAverageTemperature\"].apply(converttemp)\n",
    "    df[\"dt\"] = pd.to_datetime(df[\"dt\"])\n",
    "    df[\"Month\"] = df[\"dt\"].dt.month\n",
    "    df[\"Year\"] = df[\"dt\"].dt.year\n",
    "    df = df.drop(\"dt\", axis=1)\n",
    "    df = df.drop(\"Month\", axis=1)\n",
    "    df = df[df.Year >= 1850]\n",
    "    df = df.set_index([\"Year\"])\n",
    "    df = df.dropna()\n",
    "    return df\n",
    "global_temp = wrangle(global_temp)\n",
    "print(global_temp.head())\n"
   ]
  },
  {
   "cell_type": "markdown",
   "id": "f3bba3b6",
   "metadata": {},
   "source": [
    "After calling the wrangle function to the global_temp dataframe, I can now see a new cleaned-up version of the global_temp dataframe with no missing values."
   ]
  },
  {
   "cell_type": "markdown",
   "id": "ea508587",
   "metadata": {},
   "source": [
    "Visualization\n",
    "\n",
    "Now, before moving forward with training a model to predict weather with machine learning, let’s visualize this data to find correlations between the data---\n"
   ]
  },
  {
   "cell_type": "code",
   "execution_count": 19,
   "id": "26b9425a",
   "metadata": {},
   "outputs": [
    {
     "data": {
      "image/png": "[encoded data removed]",
      "text/plain": [
       "<Figure size 640x480 with 2 Axes>"
      ]
     },
     "metadata": {},
     "output_type": "display_data"
    }
   ],
   "source": [
    "import seaborn as sns\n",
    "import matplotlib.pyplot as plt\n",
    "corrMatrix = global_temp.corr()\n",
    "sns.heatmap(corrMatrix, annot=True)\n",
    "plt.show()"
   ]
  },
  {
   "cell_type": "markdown",
   "id": "4877d3e2",
   "metadata": {},
   "source": [
    "The columns that I've chosen to keep moving forward are highly correlated with each other."
   ]
  },
  {
   "cell_type": "markdown",
   "id": "68c27df9",
   "metadata": {},
   "source": [
    "Separating Target---\n",
    "\n",
    "Now I need to separate the data into features and targets. The target, also called Y, is the value I want to predict, in this case, the actual average land and ocean temperature and features are all the columns the model uses to make a prediction."
   ]
  },
  {
   "cell_type": "code",
   "execution_count": 20,
   "id": "64ee4da9",
   "metadata": {},
   "outputs": [],
   "source": [
    "target = \"LandAndOceanAverageTemperature\"\n",
    "y = global_temp[target]\n",
    "x = global_temp[[\"LandAverageTemperature\", \"LandMaxTemperature\", \"LandMinTemperature\"]]"
   ]
  },
  {
   "cell_type": "markdown",
   "id": "ca22ac21",
   "metadata": {},
   "source": [
    "Train Test Split\n",
    "\n",
    "Now, to create a model to predict weather with machine learning we need to split the data by using the train_test_split method provided by scikit-learn---"
   ]
  },
  {
   "cell_type": "code",
   "execution_count": 50,
   "id": "dbcf172d",
   "metadata": {},
   "outputs": [
    {
     "name": "stdout",
     "output_type": "stream",
     "text": [
      "(1494, 3)\n",
      "(498, 3)\n",
      "(1494,)\n",
      "(498,)\n"
     ]
    }
   ],
   "source": [
    "from sklearn.model_selection import train_test_split\n",
    "xtrain, xval, ytrain, yval = train_test_split(x, y, test_size=0.25, random_state=42)\n",
    "print(xtrain.shape)\n",
    "print(xval.shape)\n",
    "print(ytrain.shape)\n",
    "print(yval.shape)"
   ]
  },
  {
   "cell_type": "markdown",
   "id": "f79dbc74",
   "metadata": {},
   "source": [
    "Baseline Mean Absolute Error\n",
    "\n",
    "Before I can make and evaluate any predictions on my machine learning model to predict weather, I need to establish a baseline, a sane metric that I hope to beat with my model. If the model cannot improve from the baseline then it will fail and I should try a different model or admit that machine learning is not suitable for the problem."
   ]
  },
  {
   "cell_type": "code",
   "execution_count": 51,
   "id": "373d088e",
   "metadata": {},
   "outputs": [
    {
     "name": "stdout",
     "output_type": "stream",
     "text": [
      "Baseline MAE:  5.29374\n"
     ]
    }
   ],
   "source": [
    "from sklearn.metrics import mean_squared_error\n",
    "ypred = [ytrain.mean()] * len(ytrain)\n",
    "print(\"Baseline MAE: \", round(mean_squared_error(ytrain, ypred), 5))"
   ]
  },
  {
   "cell_type": "markdown",
   "id": "0675dcdb",
   "metadata": {},
   "source": [
    "Training Model To Predict Weather\n",
    "\n",
    "Now to predict weather with Machine Learning I will train a Random Forest algorithm which is capable of performing both the tasks of Classification as well as Regression."
   ]
  },
  {
   "cell_type": "code",
   "execution_count": 52,
   "id": "cfccc452",
   "metadata": {},
   "outputs": [
    {
     "data": {
      "text/plain": [
       "Pipeline(steps=[('selectkbest', SelectKBest(k='all')),\n",
       "                ('standardscaler', StandardScaler()),\n",
       "                ('randomforestregressor',\n",
       "                 RandomForestRegressor(max_depth=50, n_jobs=-1,\n",
       "                                       random_state=77))])"
      ]
     },
     "execution_count": 52,
     "metadata": {},
     "output_type": "execute_result"
    }
   ],
   "source": [
    "from sklearn.feature_selection import SelectKBest\n",
    "from sklearn.ensemble import RandomForestRegressor\n",
    "from sklearn.pipeline import make_pipeline\n",
    "from sklearn.preprocessing import StandardScaler\n",
    "forest = make_pipeline(\n",
    "    SelectKBest(k=\"all\"),\n",
    "    StandardScaler(),\n",
    "    RandomForestRegressor(\n",
    "        n_estimators=100,\n",
    "        max_depth=50,\n",
    "        random_state=77,\n",
    "        n_jobs=-1\n",
    "    )\n",
    ")\n",
    "forest.fit(xtrain, ytrain)"
   ]
  },
  {
   "cell_type": "markdown",
   "id": "82da1d3f",
   "metadata": {},
   "source": [
    "Model Evaluation---\n",
    "\n",
    "To put my predictions in perspective, I can calculate a precision using the average percentage error subtracted from 100%."
   ]
  },
  {
   "cell_type": "code",
   "execution_count": 58,
   "id": "25f40b52",
   "metadata": {},
   "outputs": [
    {
     "name": "stdout",
     "output_type": "stream",
     "text": [
      "Random Forest Model:  95.28 %\n"
     ]
    }
   ],
   "source": [
    "import numpy as np\n",
    "errors = abs(ytrain - yval)\n",
    "mape = 100 * (errors/ytrain)\n",
    "accuracy = 100 - np.mean(mape)\n",
    "print(\"Random Forest Model: \", round(accuracy, 2), \"%\")"
   ]
  },
  {
   "cell_type": "markdown",
   "id": "7b2cc535",
   "metadata": {},
   "source": [
    "The model has learned to predict weather conditions with machine learning for next year with 95% accuracy"
   ]
  }
 ],
 "metadata": {
  "kernelspec": {
   "display_name": "Python 3 (ipykernel)",
   "language": "python",
   "name": "python3"
  },
  "language_info": {
   "codemirror_mode": {
    "name": "ipython",
    "version": 3
   },
   "file_extension": ".py",
   "mimetype": "text/x-python",
   "name": "python",
   "nbconvert_exporter": "python",
   "pygments_lexer": "ipython3",
   "version": "3.9.13"
  }
 },
 "nbformat": 4,
 "nbformat_minor": 5
}
